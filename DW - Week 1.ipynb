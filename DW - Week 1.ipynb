{
 "cells": [
  {
   "cell_type": "raw",
   "id": "6b56d661-e049-4288-a635-034bcca1164d",
   "metadata": {},
   "source": [
    "Title: Data Wrangling 1.2 Exercises\n",
    "Author: Ryan Weeks\n",
    "Date: 01 December 2024\n",
    "Description: These exercises demonstrate the basic functionality/arithmetic in Python AND more advanced statistic calculations with the help of some Python libraries. "
   ]
  },
  {
   "cell_type": "code",
   "execution_count": 1,
   "id": "5cd1ea4c-44cd-4b2c-a640-0c523f4708a2",
   "metadata": {},
   "outputs": [
    {
     "name": "stdout",
     "output_type": "stream",
     "text": [
      "Hello World! I wonder why that is always the default coding text to start with.\n"
     ]
    }
   ],
   "source": [
    "print('Hello World! I wonder why that is always the default coding text to start with.')"
   ]
  },
  {
   "cell_type": "code",
   "execution_count": 2,
   "id": "d58869cf-9ca3-4028-a820-975f512ba270",
   "metadata": {},
   "outputs": [
    {
     "data": {
      "text/plain": [
       "8"
      ]
     },
     "execution_count": 2,
     "metadata": {},
     "output_type": "execute_result"
    }
   ],
   "source": [
    "4 + 4"
   ]
  },
  {
   "cell_type": "code",
   "execution_count": 3,
   "id": "405946bd-78bf-42f6-bebe-84b499779b72",
   "metadata": {},
   "outputs": [
    {
     "data": {
      "text/plain": [
       "4"
      ]
     },
     "execution_count": 3,
     "metadata": {},
     "output_type": "execute_result"
    }
   ],
   "source": [
    "8 - 4"
   ]
  },
  {
   "cell_type": "code",
   "execution_count": 4,
   "id": "97f3f86b-5e5b-4469-9e8d-3f20ae2e849c",
   "metadata": {},
   "outputs": [
    {
     "data": {
      "text/plain": [
       "16"
      ]
     },
     "execution_count": 4,
     "metadata": {},
     "output_type": "execute_result"
    }
   ],
   "source": [
    "4 * 4"
   ]
  },
  {
   "cell_type": "code",
   "execution_count": 5,
   "id": "4c4c94c1-1f34-4de8-b7ff-e32bed502d8b",
   "metadata": {},
   "outputs": [
    {
     "data": {
      "text/plain": [
       "4.0"
      ]
     },
     "execution_count": 5,
     "metadata": {},
     "output_type": "execute_result"
    }
   ],
   "source": [
    "16 / 4"
   ]
  },
  {
   "cell_type": "code",
   "execution_count": 6,
   "id": "410905eb-f1ab-408c-b2c6-733b6af9b5d8",
   "metadata": {},
   "outputs": [
    {
     "data": {
      "text/plain": [
       "'Two Strings'"
      ]
     },
     "execution_count": 6,
     "metadata": {},
     "output_type": "execute_result"
    }
   ],
   "source": [
    "'Two ' + 'Strings'"
   ]
  },
  {
   "cell_type": "code",
   "execution_count": 7,
   "id": "38968ea5-4bf0-4283-9fbb-4ff8ee6bcf0c",
   "metadata": {},
   "outputs": [
    {
     "name": "stdout",
     "output_type": "stream",
     "text": [
      "[1, 2, 3, 4]\n"
     ]
    }
   ],
   "source": [
    "list = [1, 2, 3, 4]\n",
    "print(list)"
   ]
  },
  {
   "cell_type": "code",
   "execution_count": 8,
   "id": "f9cdae41-b920-483a-8783-07da77fb8b3a",
   "metadata": {},
   "outputs": [
    {
     "name": "stdout",
     "output_type": "stream",
     "text": [
      "[1, 2, 3, 4, 5]\n"
     ]
    }
   ],
   "source": [
    "list.append(5)\n",
    "print(list)"
   ]
  },
  {
   "cell_type": "code",
   "execution_count": 9,
   "id": "66b581fa-a5d8-47b1-bea1-89616fd6d7ce",
   "metadata": {},
   "outputs": [
    {
     "name": "stdout",
     "output_type": "stream",
     "text": [
      "(1, 2, 3, '4')\n"
     ]
    }
   ],
   "source": [
    "tuple = (1, 2, 3, '4')\n",
    "print(tuple)"
   ]
  },
  {
   "cell_type": "markdown",
   "id": "fb735672-e58d-4562-85b9-386f605afd00",
   "metadata": {},
   "source": [
    "# Coding Exercises"
   ]
  },
  {
   "cell_type": "markdown",
   "id": "a063aefb-b111-4b1c-a239-632613ad0b88",
   "metadata": {},
   "source": [
    "## 2. Is all data normally distributed? Explain why or why not."
   ]
  },
  {
   "cell_type": "markdown",
   "id": "fcbe50b4-6ee8-4339-bf94-4cde1d17d174",
   "metadata": {},
   "source": [
    "No, the **normal distribution** is a specific type of probability distribution characterized by its bell-shaped curve. It assumes symmetry around the mean where most data clusters close to the mean, tapering off equally on both sides as you move further away. There are **other** types of distributions though... for instance, skewed data, bimodal data, or categorical data, just to name a few."
   ]
  },
  {
   "cell_type": "markdown",
   "id": "0d368dc6-4ee1-4b08-ac27-fbb8603eed63",
   "metadata": {},
   "source": [
    "## 3. When would it make more sense to use the median instead of the mean for the measure of center?"
   ]
  },
  {
   "cell_type": "markdown",
   "id": "3d3abcb0-852d-4af2-a0ab-b4145ba48e29",
   "metadata": {},
   "source": [
    "Using the median instead of the mean makes sense in a few scenarios, but **PARTICULARLY** when the data is skewed or contains outliers. The mean is sensitive to extreme values in a data set and will be \"pulled\" in the direction of the skew, but the median remains unaffected because it is simply the middle value of the data set. "
   ]
  },
  {
   "cell_type": "markdown",
   "id": "a54ff52d-3dcc-41bd-97bf-3708370b3022",
   "metadata": {},
   "source": [
    "## Exercise 4: Generate the data"
   ]
  },
  {
   "cell_type": "code",
   "execution_count": 16,
   "id": "484ab353-3408-4dfa-a34f-e2acb3f715db",
   "metadata": {},
   "outputs": [],
   "source": [
    "import random\n",
    "\n",
    "random.seed(0)\n",
    "salaries = [round(random.random()*1000000, -3) for _ in range(100)]"
   ]
  },
  {
   "cell_type": "markdown",
   "id": "cdd96b13-26f1-4aee-a2c3-750181252534",
   "metadata": {},
   "source": [
    "## Exercise 5:  Calculating statistics and verifying"
   ]
  },
  {
   "cell_type": "markdown",
   "id": "0408065b-5174-4365-92d6-337a2cf79404",
   "metadata": {},
   "source": [
    "### (a) Mean"
   ]
  },
  {
   "cell_type": "code",
   "execution_count": 19,
   "id": "7304bc88-cd67-453f-ad4e-5885f8abfac1",
   "metadata": {},
   "outputs": [
    {
     "data": {
      "text/plain": [
       "True"
      ]
     },
     "execution_count": 19,
     "metadata": {},
     "output_type": "execute_result"
    }
   ],
   "source": [
    "from statistics import mean\n",
    "\n",
    "# Sum all salaries / # count of salaries \n",
    "salary_mean = sum(salaries) / len(salaries)\n",
    "\n",
    "# Confirm results\n",
    "salary_mean == mean(salaries)"
   ]
  },
  {
   "cell_type": "markdown",
   "id": "34fd1a42-c898-458e-9a7a-48aaeb024b08",
   "metadata": {},
   "source": [
    "### (b) Median"
   ]
  },
  {
   "cell_type": "code",
   "execution_count": 21,
   "id": "74ca1f20-353c-48bf-a857-e362a8b87721",
   "metadata": {},
   "outputs": [],
   "source": [
    "import math\n",
    "\n",
    "# Define function to calculate median\n",
    "def find_median(x):\n",
    "\n",
    "    # Sort data in ascending order\n",
    "    x.sort()\n",
    "\n",
    "    # Find middle of data set\n",
    "    middle = (len(x) + 1) / 2 - 1 # subtract 1 because index starts at 0\n",
    "\n",
    "    # Check if x has odd or even number of values\n",
    "    if len(x) % 2:\n",
    "        return x[int(middle)]\n",
    "    else:\n",
    "        return (x[math.floor(middle)] + x[math.ceil(middle)]) / 2"
   ]
  },
  {
   "cell_type": "code",
   "execution_count": 22,
   "id": "a68b2139-223a-4a6a-bb12-e7d8a994d6de",
   "metadata": {},
   "outputs": [
    {
     "data": {
      "text/plain": [
       "True"
      ]
     },
     "execution_count": 22,
     "metadata": {},
     "output_type": "execute_result"
    }
   ],
   "source": [
    "from statistics import median\n",
    "\n",
    "# Confirm results\n",
    "find_median(salaries) == median(salaries)"
   ]
  },
  {
   "cell_type": "markdown",
   "id": "68f3a0df-ea0a-4342-a0b5-aefa14dff215",
   "metadata": {},
   "source": [
    "### (c) Mode"
   ]
  },
  {
   "cell_type": "code",
   "execution_count": 24,
   "id": "a732299e-f306-48b8-981a-ced132eda8fa",
   "metadata": {},
   "outputs": [
    {
     "data": {
      "text/plain": [
       "True"
      ]
     },
     "execution_count": 24,
     "metadata": {},
     "output_type": "execute_result"
    }
   ],
   "source": [
    "from statistics import mode\n",
    "from collections import Counter\n",
    "\n",
    "# Confirm if most common salary using 'Counter' matches using 'mode'\n",
    "Counter(salaries).most_common(1)[0][0] == mode(salaries)"
   ]
  },
  {
   "cell_type": "markdown",
   "id": "32f6f252-18ba-4b40-bd53-839b17abb694",
   "metadata": {},
   "source": [
    "### (d) Sample Variance"
   ]
  },
  {
   "cell_type": "code",
   "execution_count": 26,
   "id": "00a40ce0-1489-44fa-a30d-782be415b6b6",
   "metadata": {},
   "outputs": [
    {
     "data": {
      "text/plain": [
       "True"
      ]
     },
     "execution_count": 26,
     "metadata": {},
     "output_type": "execute_result"
    }
   ],
   "source": [
    "from statistics import variance\n",
    "\n",
    "# Confirm manual calculated variance matches result from variance() function\n",
    "sum([(x - sum(salaries) / len(salaries)) ** 2 for x in salaries]) / (len(salaries) - 1) == variance(salaries)"
   ]
  },
  {
   "cell_type": "markdown",
   "id": "6c74bb6a-1fcb-4cd2-bd00-ab15e4982a11",
   "metadata": {},
   "source": [
    "### (e) Sample Standard Deviation"
   ]
  },
  {
   "cell_type": "code",
   "execution_count": 28,
   "id": "37b88aa5-dd94-4934-ba7e-660b6c9c1b65",
   "metadata": {},
   "outputs": [
    {
     "data": {
      "text/plain": [
       "True"
      ]
     },
     "execution_count": 28,
     "metadata": {},
     "output_type": "execute_result"
    }
   ],
   "source": [
    "from statistics import stdev\n",
    "import math\n",
    "\n",
    "# Confirm manual calculated stdev matches result from stdev() function\n",
    "math.sqrt(sum([(x - sum(salaries) / len(salaries)) ** 2 for x in salaries]) / (len(salaries) - 1)) == stdev(salaries)"
   ]
  },
  {
   "attachments": {},
   "cell_type": "markdown",
   "id": "e2da432e-d6a1-4f44-ba87-176071f791ce",
   "metadata": {},
   "source": [
    "## Exercise 6: More Statistics"
   ]
  },
  {
   "cell_type": "markdown",
   "id": "2b178140-e28b-4130-a23f-08ebf53c86d1",
   "metadata": {},
   "source": [
    "### (a) Range"
   ]
  },
  {
   "cell_type": "code",
   "execution_count": 31,
   "id": "6a5f7c2b-56e4-4880-86d0-b837ce7e4d6a",
   "metadata": {},
   "outputs": [
    {
     "data": {
      "text/plain": [
       "995000.0"
      ]
     },
     "execution_count": 31,
     "metadata": {},
     "output_type": "execute_result"
    }
   ],
   "source": [
    "max(salaries) - min(salaries)"
   ]
  },
  {
   "cell_type": "markdown",
   "id": "3e4a6cc3-f247-4987-8bbf-69832dc55d51",
   "metadata": {},
   "source": [
    "### (b) Coefficient of Variation"
   ]
  },
  {
   "cell_type": "code",
   "execution_count": 33,
   "id": "e30eb73e-ef6e-4012-b2c6-de809b66438a",
   "metadata": {},
   "outputs": [
    {
     "data": {
      "text/plain": [
       "0.45386998894439035"
      ]
     },
     "execution_count": 33,
     "metadata": {},
     "output_type": "execute_result"
    }
   ],
   "source": [
    "from statistics import stdev, mean\n",
    "\n",
    "stdev(salaries) / mean(salaries)"
   ]
  },
  {
   "cell_type": "markdown",
   "id": "ef0a406b-3a3d-4744-ac04-bf6bd726fc1d",
   "metadata": {},
   "source": [
    "### (c) Interquartile Range"
   ]
  },
  {
   "cell_type": "code",
   "execution_count": 35,
   "id": "dc74c7aa-abfa-43db-be1c-9a60acdbd03c",
   "metadata": {},
   "outputs": [
    {
     "data": {
      "text/plain": [
       "417500.0"
      ]
     },
     "execution_count": 35,
     "metadata": {},
     "output_type": "execute_result"
    }
   ],
   "source": [
    "import math\n",
    "\n",
    "# Function to calculate specific quartiles\n",
    "def quartile(x, percent):\n",
    "    x.sort()\n",
    "    # Calculate the x index based off percent parameter\n",
    "    index = (len(x) + 1) * percent - 1\n",
    "    # Checking if length of x is odd or even\n",
    "    if len(x) % 2:\n",
    "        return x[int(index)]\n",
    "    else:\n",
    "        return (x[math.floor(index)] + x[math.ceil(index)]) / 2\n",
    "\n",
    "# Calculate q1, q3 and then the IQR\n",
    "q1, q3 = quartile(salaries, 0.25), quartile(salaries, 0.75)\n",
    "iqr = q3 - q1\n",
    "iqr"
   ]
  },
  {
   "cell_type": "markdown",
   "id": "626fc62c-a389-4d61-a052-4d57e113de2a",
   "metadata": {},
   "source": [
    "### (d) Quartile Coefficent of Dispersion"
   ]
  },
  {
   "cell_type": "code",
   "execution_count": 37,
   "id": "0eb4eab7-6361-4a3f-b1cf-77156f377b2f",
   "metadata": {},
   "outputs": [
    {
     "data": {
      "text/plain": [
       "0.3417928776094965"
      ]
     },
     "execution_count": 37,
     "metadata": {},
     "output_type": "execute_result"
    }
   ],
   "source": [
    "iqr / (q1 + q3)"
   ]
  },
  {
   "cell_type": "markdown",
   "id": "179b4d40-2eca-46eb-b9fe-3658415c2ee5",
   "metadata": {},
   "source": [
    "## Exercise 7: Scaled Data"
   ]
  },
  {
   "cell_type": "markdown",
   "id": "d7de5aa9-4f45-46f8-aafe-3abbe1878fa6",
   "metadata": {},
   "source": [
    "### (a) Min-Max Scaling (Normalizing)"
   ]
  },
  {
   "cell_type": "code",
   "execution_count": 40,
   "id": "39741ee5-5574-4c2e-b959-7bd5b62d8dde",
   "metadata": {},
   "outputs": [
    {
     "data": {
      "text/plain": [
       "[0.0,\n",
       " 0.01306532663316583,\n",
       " 0.07939698492462312,\n",
       " 0.0814070351758794,\n",
       " 0.08944723618090453,\n",
       " 0.10050251256281408,\n",
       " 0.10854271356783919,\n",
       " 0.18693467336683417,\n",
       " 0.18894472361809045,\n",
       " 0.19095477386934673]"
      ]
     },
     "execution_count": 40,
     "metadata": {},
     "output_type": "execute_result"
    }
   ],
   "source": [
    "min_salary = min(salaries)\n",
    "max_salary = max(salaries)\n",
    "salary_range = max_salary - min_salary\n",
    "\n",
    "min_max_scaled = [(x - min_salary) / salary_range for x in salaries]\n",
    "\n",
    "min_max_scaled[:10]"
   ]
  },
  {
   "cell_type": "markdown",
   "id": "b7ac6612-c6df-48f5-963f-855fdd1cb419",
   "metadata": {},
   "source": [
    "### (b) Standardizing"
   ]
  },
  {
   "cell_type": "code",
   "execution_count": 42,
   "id": "7b07b8ae-547b-4579-959a-c1ed3642a92e",
   "metadata": {},
   "outputs": [
    {
     "data": {
      "text/plain": [
       "[-2.199512275430514,\n",
       " -2.150608309943509,\n",
       " -1.9023266390094862,\n",
       " -1.8948029520114855,\n",
       " -1.8647082040194827,\n",
       " -1.8233279255304788,\n",
       " -1.7932331775384762,\n",
       " -1.4998093846164489,\n",
       " -1.4922856976184482,\n",
       " -1.4847620106204475]"
      ]
     },
     "execution_count": 42,
     "metadata": {},
     "output_type": "execute_result"
    }
   ],
   "source": [
    "from statistics import mean, stdev\n",
    "\n",
    "mean_salary = mean(salaries)\n",
    "stdev_salary = stdev(salaries)\n",
    "\n",
    "standardized = [(x - mean_salary) / stdev_salary for x in salaries]\n",
    "\n",
    "standardized[:10]"
   ]
  },
  {
   "cell_type": "markdown",
   "id": "8c4019fe-ff76-4f2b-b60e-d8502e26a047",
   "metadata": {},
   "source": [
    "## Exercise 8: Covariance and Correlation"
   ]
  },
  {
   "cell_type": "markdown",
   "id": "89543546-f4a1-45cc-93ef-91de46da5680",
   "metadata": {},
   "source": [
    "### (a) Covariance"
   ]
  },
  {
   "cell_type": "code",
   "execution_count": 45,
   "id": "30d5a51c-4788-4066-bce4-480b760c7241",
   "metadata": {},
   "outputs": [
    {
     "data": {
      "text/plain": [
       "0.26449129918250414"
      ]
     },
     "execution_count": 45,
     "metadata": {},
     "output_type": "execute_result"
    }
   ],
   "source": [
    "from statistics import mean\n",
    "\n",
    "# Create a list where each product is calculated by:\n",
    "# (x - mean of min_max_scaled) * (y - mean of standardized)\n",
    "# Zip the two lists to pair corresponding elements\n",
    "\n",
    "cov_calc = [\n",
    "    (x - mean(min_max_scaled)) * (y - mean(standardized))\n",
    "    for x, y in zip(min_max_scaled, standardized)\n",
    "]\n",
    "\n",
    "# Calculate covariance by taking the mean\n",
    "cov = mean(cov_calc)\n",
    "cov"
   ]
  },
  {
   "cell_type": "markdown",
   "id": "54f87b99-b241-4e53-8101-4681cf195f11",
   "metadata": {},
   "source": [
    "### (b) Pearson Correlation Coefficient"
   ]
  },
  {
   "cell_type": "code",
   "execution_count": 47,
   "id": "204a7177-1ac6-4f0b-b19b-c4caf4072c25",
   "metadata": {},
   "outputs": [
    {
     "data": {
      "text/plain": [
       "0.9900000000000001"
      ]
     },
     "execution_count": 47,
     "metadata": {},
     "output_type": "execute_result"
    }
   ],
   "source": [
    "from statistics import stdev\n",
    "\n",
    "cov / (stdev(min_max_scaled) * stdev(standardized))"
   ]
  }
 ],
 "metadata": {
  "kernelspec": {
   "display_name": "Python 3 (ipykernel)",
   "language": "python",
   "name": "python3"
  },
  "language_info": {
   "codemirror_mode": {
    "name": "ipython",
    "version": 3
   },
   "file_extension": ".py",
   "mimetype": "text/x-python",
   "name": "python",
   "nbconvert_exporter": "python",
   "pygments_lexer": "ipython3",
   "version": "3.12.4"
  }
 },
 "nbformat": 4,
 "nbformat_minor": 5
}
