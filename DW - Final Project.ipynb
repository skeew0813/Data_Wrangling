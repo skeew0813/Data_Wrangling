{
 "cells": [
  {
   "cell_type": "markdown",
   "id": "91008ab4-e897-4ff5-b39d-29b5bbeb0e48",
   "metadata": {},
   "source": [
    "**Title**: Data Wrangling 12.3 Project Milestone 5\n",
    "**Author**: Ryan Weeks  \n",
    "**Date**: 2/28/2025  \n",
    "**Description**:  I created an SQLite database to integrate my three datasets containing NFL player statistics and NFL Hall of Fame data. After cleaning and standardizing column names, I loaded them into SQL tables and used joins on player and year to merge the data while handling duplicates with aggregation. Finally, I exported the joined dataset as a CSV for further analysis in Tableau, ensuring efficient querying and data integrity."
   ]
  },
  {
   "cell_type": "code",
   "execution_count": 13,
   "id": "77a0de14-67fa-4389-9abe-b56996b62c76",
   "metadata": {},
   "outputs": [],
   "source": [
    "import sqlite3\n",
    "import pandas as pd\n",
    "\n",
    "# File paths\n",
    "file_paths = {\n",
    "    \"matching_player_data\": \"C:\\\\Users\\\\Weekseey\\\\Documents\\\\Bellevue Work\\\\Data Wrangling\\\\cleaned_matching_player_data.csv\",\n",
    "    \"hof_data\": \"C:\\\\Users\\\\Weekseey\\\\Documents\\\\Bellevue Work\\\\Data Wrangling\\\\hof_df_filtered.csv\",\n",
    "    \"api_player_stats\": \"C:\\\\Users\\\\Weekseey\\\\Documents\\\\Bellevue Work\\\\Data Wrangling\\\\API_player_stats_expanded.csv\"\n",
    "}\n",
    "\n",
    "# Load CSVs into DataFrames\n",
    "matching_player_data = pd.read_csv(file_paths[\"matching_player_data\"])\n",
    "hof_data = pd.read_csv(file_paths[\"hof_data\"])\n",
    "api_player_stats = pd.read_csv(file_paths[\"api_player_stats\"])\n",
    "\n",
    "# Rename 'player_name' in API dataset to match others\n",
    "api_player_stats.rename(columns={'player_name': 'player'}, inplace=True)\n",
    "\n",
    "# Create SQLite database\n",
    "conn = sqlite3.connect(\"players_database.db\")\n",
    "cursor = conn.cursor()\n",
    "\n",
    "# Load DataFrames into SQL tables\n",
    "matching_player_data.to_sql(\"matching_player_data\", conn, if_exists=\"replace\", index=False)\n",
    "hof_data.to_sql(\"hof_data\", conn, if_exists=\"replace\", index=False)\n",
    "api_player_stats.to_sql(\"api_player_stats\", conn, if_exists=\"replace\", index=False)\n",
    "\n",
    "# SQL Query to join the tables on 'player' and 'year' to prevent duplication\n",
    "query = \"\"\"\n",
    "SELECT DISTINCT m.player, m.year, m.*, h.*, a.*\n",
    "FROM matching_player_data m\n",
    "LEFT JOIN hof_data h ON m.player = h.player\n",
    "LEFT JOIN api_player_stats a ON m.player = a.player AND m.year = a.year;\n",
    "\"\"\"\n",
    "\n",
    "# Execute and load into a DataFrame\n",
    "joined_data = pd.read_sql(query, conn)\n",
    "\n",
    "# Save the joined dataset as a CSV\n",
    "joined_data.to_csv(\"C:\\\\Users\\\\Weekseey\\\\Documents\\\\Bellevue Work\\\\Data Wrangling\\\\joined_players_data.csv\", index=False)\n",
    "\n",
    "# Close connection\n",
    "conn.close()"
   ]
  }
 ],
 "metadata": {
  "kernelspec": {
   "display_name": "Python 3 (ipykernel)",
   "language": "python",
   "name": "python3"
  },
  "language_info": {
   "codemirror_mode": {
    "name": "ipython",
    "version": 3
   },
   "file_extension": ".py",
   "mimetype": "text/x-python",
   "name": "python",
   "nbconvert_exporter": "python",
   "pygments_lexer": "ipython3",
   "version": "3.12.4"
  }
 },
 "nbformat": 4,
 "nbformat_minor": 5
}
