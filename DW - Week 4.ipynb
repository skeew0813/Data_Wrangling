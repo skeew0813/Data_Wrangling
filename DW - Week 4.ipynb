{
 "cells": [
  {
   "cell_type": "markdown",
   "id": "07dea09c-ad5b-4ffd-9204-14ab71bb344c",
   "metadata": {},
   "source": [
    "**Title**: Data Wrangling 4.2 Exercises  \n",
    "**Author**: Ryan Weeks  \n",
    "**Date**: 21 December 2024  \n",
    "**Description**: These exercises focus on data manipulation and analysis using pandas and numpy. Tasks include loading, exploring, and querying data from CSV files like WHO_first9cols.csv, performing group-based aggregation, and handling missing values. Additionally, operations like concatenation, appending, and merging datasets are practiced, enhancing skills in managing and combining data efficiently."
   ]
  },
  {
   "cell_type": "markdown",
   "id": "8af70156-31ca-4ccc-881e-776764d536f9",
   "metadata": {},
   "source": [
    "## Loading and exploring the data"
   ]
  },
  {
   "cell_type": "code",
   "execution_count": 3,
   "id": "bd1a90d9-cbba-4d4c-b044-5c6b73e1b074",
   "metadata": {},
   "outputs": [
    {
     "name": "stdout",
     "output_type": "stream",
     "text": [
      "                Country  CountryID  Continent  Adolescent fertility rate (%)  \\\n",
      "0           Afghanistan          1          1                          151.0   \n",
      "1               Albania          2          2                           27.0   \n",
      "2               Algeria          3          3                            6.0   \n",
      "3               Andorra          4          2                            NaN   \n",
      "4                Angola          5          3                          146.0   \n",
      "..                  ...        ...        ...                            ...   \n",
      "197             Vietnam        198          6                           25.0   \n",
      "198  West Bank and Gaza        199          1                            NaN   \n",
      "199               Yemen        200          1                           83.0   \n",
      "200              Zambia        201          3                          161.0   \n",
      "201            Zimbabwe        202          3                          101.0   \n",
      "\n",
      "     Adult literacy rate (%)  \\\n",
      "0                       28.0   \n",
      "1                       98.7   \n",
      "2                       69.9   \n",
      "3                        NaN   \n",
      "4                       67.4   \n",
      "..                       ...   \n",
      "197                     90.3   \n",
      "198                      NaN   \n",
      "199                     54.1   \n",
      "200                     68.0   \n",
      "201                     89.5   \n",
      "\n",
      "     Gross national income per capita (PPP international $)  \\\n",
      "0                                                  NaN        \n",
      "1                                               6000.0        \n",
      "2                                               5940.0        \n",
      "3                                                  NaN        \n",
      "4                                               3890.0        \n",
      "..                                                 ...        \n",
      "197                                             2310.0        \n",
      "198                                                NaN        \n",
      "199                                             2090.0        \n",
      "200                                             1140.0        \n",
      "201                                                NaN        \n",
      "\n",
      "     Net primary school enrolment ratio female (%)  \\\n",
      "0                                              NaN   \n",
      "1                                             93.0   \n",
      "2                                             94.0   \n",
      "3                                             83.0   \n",
      "4                                             49.0   \n",
      "..                                             ...   \n",
      "197                                           91.0   \n",
      "198                                            NaN   \n",
      "199                                           65.0   \n",
      "200                                           94.0   \n",
      "201                                           88.0   \n",
      "\n",
      "     Net primary school enrolment ratio male (%)  \\\n",
      "0                                            NaN   \n",
      "1                                           94.0   \n",
      "2                                           96.0   \n",
      "3                                           83.0   \n",
      "4                                           51.0   \n",
      "..                                           ...   \n",
      "197                                         96.0   \n",
      "198                                          NaN   \n",
      "199                                         85.0   \n",
      "200                                         90.0   \n",
      "201                                         87.0   \n",
      "\n",
      "     Population (in thousands) total  \n",
      "0                            26088.0  \n",
      "1                             3172.0  \n",
      "2                            33351.0  \n",
      "3                               74.0  \n",
      "4                            16557.0  \n",
      "..                               ...  \n",
      "197                          86206.0  \n",
      "198                              NaN  \n",
      "199                          21732.0  \n",
      "200                          11696.0  \n",
      "201                          13228.0  \n",
      "\n",
      "[202 rows x 9 columns]\n",
      "Number of rows: 202\n",
      "Column headers: ['Country', 'CountryID', 'Continent', 'Adolescent fertility rate (%)', 'Adult literacy rate (%)', 'Gross national income per capita (PPP international $)', 'Net primary school enrolment ratio female (%)', 'Net primary school enrolment ratio male (%)', 'Population (in thousands) total']\n",
      "Data types:\n",
      " Country                                                    object\n",
      "CountryID                                                   int64\n",
      "Continent                                                   int64\n",
      "Adolescent fertility rate (%)                             float64\n",
      "Adult literacy rate (%)                                   float64\n",
      "Gross national income per capita (PPP international $)    float64\n",
      "Net primary school enrolment ratio female (%)             float64\n",
      "Net primary school enrolment ratio male (%)               float64\n",
      "Population (in thousands) total                           float64\n",
      "dtype: object\n",
      "Index: RangeIndex(start=0, stop=202, step=1)\n"
     ]
    }
   ],
   "source": [
    "import pandas as pd\n",
    "\n",
    "# Import Data\n",
    "who_data = pd.read_csv(r\"C:\\Users\\Weekseey\\Documents\\Bellevue Work\\Data Wrangling\\WHO_first9cols.csv\")\n",
    "\n",
    "# Print results\n",
    "print(who_data)\n",
    "\n",
    "# Query number of rows\n",
    "print(\"Number of rows:\", who_data.shape[0])\n",
    "\n",
    "# Print the column headers\n",
    "print(\"Column headers:\", who_data.columns.tolist())\n",
    "\n",
    "# Print the data types\n",
    "print(\"Data types:\\n\", who_data.dtypes)\n",
    "\n",
    "# Print the index\n",
    "print(\"Index:\", who_data.index)"
   ]
  },
  {
   "cell_type": "markdown",
   "id": "f65e4f32-6766-4b08-a141-1dab536f3265",
   "metadata": {},
   "source": [
    "## The 'Country' Column"
   ]
  },
  {
   "cell_type": "code",
   "execution_count": 5,
   "id": "b0f9f515-3b53-4689-811e-f84305e92893",
   "metadata": {},
   "outputs": [
    {
     "name": "stdout",
     "output_type": "stream",
     "text": [
      "Data type: object\n",
      "Shape: (202,)\n",
      "Index: RangeIndex(start=0, stop=202, step=1)\n",
      "Values:\n",
      " ['Afghanistan' 'Albania' 'Algeria' 'Andorra' 'Angola'\n",
      " 'Antigua and Barbuda' 'Argentina' 'Armenia' 'Australia' 'Austria'\n",
      " 'Azerbaijan' 'Bahamas' 'Bahrain' 'Bangladesh' 'Barbados' 'Belarus'\n",
      " 'Belgium' 'Belize' 'Benin' 'Bermuda' 'Bhutan' 'Bolivia'\n",
      " 'Bosnia and Herzegovina' 'Botswana' 'Brazil' 'Brunei Darussalam'\n",
      " 'Bulgaria' 'Burkina Faso' 'Burundi' 'Cambodia' 'Cameroon' 'Canada'\n",
      " 'Cape Verde' 'Central African Republic' 'Chad' 'Chile' 'China' 'Colombia'\n",
      " 'Comoros' 'Congo, Dem. Rep.' 'Congo, Rep.' 'Cook Islands' 'Costa Rica'\n",
      " \"Cote d'Ivoire\" 'Croatia' 'Cuba' 'Cyprus' 'Czech Republic' 'Denmark'\n",
      " 'Djibouti' 'Dominica' 'Dominican Republic' 'Ecuador' 'Egypt'\n",
      " 'El Salvador' 'Equatorial Guinea' 'Eritrea' 'Estonia' 'Ethiopia' 'Fiji'\n",
      " 'Finland' 'France' 'French Polynesia' 'Gabon' 'Gambia' 'Georgia'\n",
      " 'Germany' 'Ghana' 'Greece' 'Grenada' 'Guatemala' 'Guinea' 'Guinea-Bissau'\n",
      " 'Guyana' 'Haiti' 'Honduras' 'Hong Kong, China' 'Hungary' 'Iceland'\n",
      " 'India' 'Indonesia' 'Iran (Islamic Republic of)' 'Iraq' 'Ireland'\n",
      " 'Israel' 'Italy' 'Jamaica' 'Japan' 'Jordan' 'Kazakhstan' 'Kenya'\n",
      " 'Kiribati' 'Korea, Dem. Rep.' 'Korea, Rep.' 'Kuwait' 'Kyrgyzstan'\n",
      " \"Lao People's Democratic Republic\" 'Latvia' 'Lebanon' 'Lesotho' 'Liberia'\n",
      " 'Libyan Arab Jamahiriya' 'Lithuania' 'Luxembourg' 'Macao, China'\n",
      " 'Macedonia' 'Madagascar' 'Malawi' 'Malaysia' 'Maldives' 'Mali' 'Malta'\n",
      " 'Marshall Islands' 'Mauritania' 'Mauritius' 'Mexico'\n",
      " 'Micronesia (Federated States of)' 'Moldova' 'Monaco' 'Mongolia'\n",
      " 'Montenegro' 'Morocco' 'Mozambique' 'Myanmar' 'Namibia' 'Nauru' 'Nepal'\n",
      " 'Netherlands' 'Netherlands Antilles' 'New Caledonia' 'New Zealand'\n",
      " 'Nicaragua' 'Niger' 'Nigeria' 'Niue' 'Norway' 'Oman' 'Pakistan' 'Palau'\n",
      " 'Panama' 'Papua New Guinea' 'Paraguay' 'Peru' 'Philippines' 'Poland'\n",
      " 'Portugal' 'Puerto Rico' 'Qatar' 'Romania' 'Russia' 'Rwanda'\n",
      " 'Saint Kitts and Nevis' 'Saint Lucia' 'Saint Vincent and the Grenadines'\n",
      " 'Samoa' 'San Marino' 'Sao Tome and Principe' 'Saudi Arabia' 'Senegal'\n",
      " 'Serbia' 'Seychelles' 'Sierra Leone' 'Singapore' 'Slovakia' 'Slovenia'\n",
      " 'Solomon Islands' 'Somalia' 'South Africa' 'Spain' 'Sri Lanka' 'Sudan'\n",
      " 'Suriname' 'Swaziland' 'Sweden' 'Switzerland' 'Syria' 'Taiwan'\n",
      " 'Tajikistan' 'Tanzania' 'Thailand' 'Timor-Leste' 'Togo' 'Tonga'\n",
      " 'Trinidad and Tobago' 'Tunisia' 'Turkey' 'Turkmenistan' 'Tuvalu' 'Uganda'\n",
      " 'Ukraine' 'United Arab Emirates' 'United Kingdom'\n",
      " 'United States of America' 'Uruguay' 'Uzbekistan' 'Vanuatu' 'Venezuela'\n",
      " 'Vietnam' 'West Bank and Gaza' 'Yemen' 'Zambia' 'Zimbabwe']\n",
      "Name: Country\n"
     ]
    }
   ],
   "source": [
    "country_col = who_data['Country']\n",
    "\n",
    "# Print details\n",
    "print(\"Data type:\", country_col.dtype)\n",
    "print(\"Shape:\", country_col.shape)\n",
    "print(\"Index:\", country_col.index)\n",
    "print(\"Values:\\n\", country_col.values)\n",
    "print(\"Name:\", country_col.name)"
   ]
  },
  {
   "cell_type": "markdown",
   "id": "7004f43f-3d41-44b0-9588-4758c3cb086c",
   "metadata": {},
   "source": [
    "## Random DataFrame"
   ]
  },
  {
   "cell_type": "code",
   "execution_count": 7,
   "id": "414cea34-45bc-446a-8cd4-372c870d548e",
   "metadata": {},
   "outputs": [
    {
     "name": "stdout",
     "output_type": "stream",
     "text": [
      "  Weather    Food      Price  Number\n",
      "0     Hot  Burger  14.177793       7\n",
      "1    Cold   Pizza   7.092408       8\n",
      "2     Hot  Burger   9.382170       3\n",
      "3     Hot   Tacos  10.495428       1\n",
      "4     Hot   Tacos  11.841050       4\n"
     ]
    }
   ],
   "source": [
    "import numpy as np\n",
    "import pandas as pd\n",
    "\n",
    "# Create random DataFrame\n",
    "import pandas as pd\n",
    "import numpy as np\n",
    "\n",
    "# Set a random seed for reproducibility\n",
    "np.random.seed(42)\n",
    "\n",
    "# Generate random data\n",
    "data = {\n",
    "    'Weather': np.random.choice(['Hot', 'Cold'], size=20),\n",
    "    'Food': np.random.choice(['Pizza', 'Burger', 'Salad', 'Tacos'], size=20),\n",
    "    'Price': np.random.uniform(5, 20, size=20),\n",
    "    'Number': np.random.randint(1, 10, size=20)\n",
    "}\n",
    "\n",
    "# Create the DataFrame\n",
    "df = pd.DataFrame(data)\n",
    "\n",
    "# Display the first few rows\n",
    "print(df.head())\n"
   ]
  },
  {
   "cell_type": "code",
   "execution_count": 8,
   "id": "6814f33c-65b6-4b83-bb7d-3db6e75b5427",
   "metadata": {},
   "outputs": [
    {
     "name": "stdout",
     "output_type": "stream",
     "text": [
      "\n",
      "Group: Cold\n",
      "   Weather    Food      Price  Number\n",
      "1     Cold   Pizza   7.092408       8\n",
      "5     Cold  Burger  16.777639       2\n",
      "9     Cold   Tacos   5.696756       6\n",
      "14    Cold  Burger  19.484480       2\n",
      "16    Cold   Tacos   9.569207       8\n",
      "17    Cold   Pizza   6.465082       7\n",
      "18    Cold   Pizza  15.263495       9\n",
      "\n",
      "Group: Hot\n",
      "   Weather    Food      Price  Number\n",
      "0      Hot  Burger  14.177793       7\n",
      "2      Hot  Burger   9.382170       3\n",
      "3      Hot   Tacos  10.495428       1\n",
      "4      Hot   Tacos  11.841050       4\n",
      "6      Hot  Burger   7.995107       8\n",
      "7      Hot  Burger  12.713517       4\n",
      "8      Hot   Tacos  13.886219       2\n",
      "10     Hot   Pizza  14.113173       6\n",
      "11     Hot   Pizza   7.557862       4\n",
      "12     Hot   Tacos   5.975774       6\n",
      "13     Hot  Burger  19.233283       2\n",
      "15     Hot   Pizza  17.125960       4\n",
      "19     Hot   Salad  11.602287       8\n"
     ]
    }
   ],
   "source": [
    "# Group the data by the 'Weather' column\n",
    "weather_group = df.groupby('Weather')\n",
    "\n",
    "# Define a function to iterate through the groups\n",
    "def iterate_weather_groups(grouped_data):\n",
    "    for name, group in grouped_data:\n",
    "        print(f\"\\nGroup: {name}\")\n",
    "        print(group)\n",
    "\n",
    "# Call the function\n",
    "iterate_weather_groups(weather_group)"
   ]
  },
  {
   "cell_type": "code",
   "execution_count": 9,
   "id": "04719492-926e-43a4-834b-7f5b9ff74fe9",
   "metadata": {},
   "outputs": [
    {
     "name": "stdout",
     "output_type": "stream",
     "text": [
      "First Row for Each Group:\n",
      "           Food      Price  Number\n",
      "Weather                           \n",
      "Cold      Pizza   7.092408       8\n",
      "Hot      Burger  14.177793       7\n",
      "\n",
      "Last Row for Each Group:\n",
      "          Food      Price  Number\n",
      "Weather                          \n",
      "Cold     Pizza  15.263495       9\n",
      "Hot      Salad  11.602287       8\n",
      "\n",
      "Mean for Each Group:\n",
      "             Price    Number\n",
      "Weather                     \n",
      "Cold     11.478438  6.000000\n",
      "Hot      12.007663  4.538462\n"
     ]
    }
   ],
   "source": [
    "# Print the first row for each group\n",
    "print(\"First Row for Each Group:\")\n",
    "print(weather_group.first())\n",
    "\n",
    "# Print the last row for each group\n",
    "print(\"\\nLast Row for Each Group:\")\n",
    "print(weather_group.last())\n",
    "\n",
    "# Print the mean for each group\n",
    "print(\"\\nMean for Each Group:\")\n",
    "print(weather_group.mean(numeric_only=True))"
   ]
  },
  {
   "cell_type": "code",
   "execution_count": 10,
   "id": "98077be9-c816-48d6-908a-0db10b947916",
   "metadata": {},
   "outputs": [
    {
     "name": "stdout",
     "output_type": "stream",
     "text": [
      "\n",
      "Aggregated Data by Weather and Food:\n",
      "                    Price               Number       \n",
      "                     mean     median      mean median\n",
      "Weather Food                                         \n",
      "Cold    Burger  18.131060  18.131060  2.000000    2.0\n",
      "        Pizza    9.606995   7.092408  8.000000    8.0\n",
      "        Tacos    7.632981   7.632981  7.000000    7.0\n",
      "Hot     Burger  12.700374  12.713517  4.800000    4.0\n",
      "        Pizza   12.932332  14.113173  4.666667    4.0\n",
      "        Salad   11.602287  11.602287  8.000000    8.0\n",
      "        Tacos   10.549617  11.168239  3.250000    3.0\n"
     ]
    }
   ],
   "source": [
    "# Group by 'Weather' and 'Food'\n",
    "weather_food_group = df.groupby(['Weather', 'Food'])\n",
    "\n",
    "# Perform aggregation explicitly on numeric columns\n",
    "aggregated_data = weather_food_group.agg({\n",
    "    'Price': ['mean', 'median'],  # Aggregate 'Price'\n",
    "    'Number': ['mean', 'median']  # Aggregate 'Number'\n",
    "})\n",
    "\n",
    "print(\"\\nAggregated Data by Weather and Food:\")\n",
    "print(aggregated_data)"
   ]
  },
  {
   "cell_type": "code",
   "execution_count": 11,
   "id": "9df84049-65a2-4491-8956-542be9c3026b",
   "metadata": {},
   "outputs": [
    {
     "name": "stdout",
     "output_type": "stream",
     "text": [
      "Aggregated Data (Mean and Median for Price and Number):\n",
      "                Price_Mean  Price_Median  Number_Mean  Number_Median\n",
      "Weather Food                                                        \n",
      "Cold    Burger   18.131060     18.131060     2.000000            2.0\n",
      "        Pizza     9.606995      7.092408     8.000000            8.0\n",
      "        Tacos     7.632981      7.632981     7.000000            7.0\n",
      "Hot     Burger   12.700374     12.713517     4.800000            4.0\n",
      "        Pizza    12.932332     14.113173     4.666667            4.0\n",
      "        Salad    11.602287     11.602287     8.000000            8.0\n",
      "        Tacos    10.549617     11.168239     3.250000            3.0\n"
     ]
    }
   ],
   "source": [
    "# Group the data by 'Weather' and 'Food'\n",
    "weather_food_group = df.groupby(['Weather', 'Food'])\n",
    "\n",
    "# Use agg() to calculate the mean and median for 'Price' and 'Number'\n",
    "aggregated_data = weather_food_group.agg({\n",
    "    'Price': ['mean', 'median'],\n",
    "    'Number': ['mean', 'median']\n",
    "})\n",
    "\n",
    "# Rename columns for clarity\n",
    "aggregated_data.columns = ['Price_Mean', 'Price_Median', 'Number_Mean', 'Number_Median']\n",
    "\n",
    "# Print the aggregated data\n",
    "print(\"Aggregated Data (Mean and Median for Price and Number):\")\n",
    "print(aggregated_data)"
   ]
  },
  {
   "cell_type": "code",
   "execution_count": 12,
   "id": "1a3caa80-b669-4a65-8f5e-6f1ffe165b13",
   "metadata": {},
   "outputs": [
    {
     "name": "stdout",
     "output_type": "stream",
     "text": [
      "DataFrame with first 3 rows appended:\n",
      "   Weather    Food      Price  Number\n",
      "0      Hot  Burger  14.177793       7\n",
      "1     Cold   Pizza   7.092408       8\n",
      "2      Hot  Burger   9.382170       3\n",
      "3      Hot   Tacos  10.495428       1\n",
      "4      Hot   Tacos  11.841050       4\n",
      "5     Cold  Burger  16.777639       2\n",
      "6      Hot  Burger   7.995107       8\n",
      "7      Hot  Burger  12.713517       4\n",
      "8      Hot   Tacos  13.886219       2\n",
      "9     Cold   Tacos   5.696756       6\n",
      "10     Hot   Pizza  14.113173       6\n",
      "11     Hot   Pizza   7.557862       4\n",
      "12     Hot   Tacos   5.975774       6\n",
      "13     Hot  Burger  19.233283       2\n",
      "14    Cold  Burger  19.484480       2\n",
      "15     Hot   Pizza  17.125960       4\n",
      "16    Cold   Tacos   9.569207       8\n",
      "17    Cold   Pizza   6.465082       7\n",
      "18    Cold   Pizza  15.263495       9\n",
      "19     Hot   Salad  11.602287       8\n",
      "0      Hot  Burger  14.177793       7\n",
      "1     Cold   Pizza   7.092408       8\n",
      "2      Hot  Burger   9.382170       3\n",
      "\n",
      "DataFrame with first 3 rows and last 2 rows appended:\n",
      "   Weather    Food      Price  Number\n",
      "0      Hot  Burger  14.177793       7\n",
      "1     Cold   Pizza   7.092408       8\n",
      "2      Hot  Burger   9.382170       3\n",
      "18    Cold   Pizza  15.263495       9\n",
      "19     Hot   Salad  11.602287       8\n"
     ]
    }
   ],
   "source": [
    "# Select the first 3 rows\n",
    "first_3_rows = df.head(3)\n",
    "\n",
    "# Select the last 2 rows\n",
    "last_2_rows = df.tail(2)\n",
    "\n",
    "# Use pd.concat() to combine the first 3 rows with the original DataFrame\n",
    "df_combined = pd.concat([df, first_3_rows])\n",
    "\n",
    "# Use pd.concat() to combine the 3 rows and 2 rows\n",
    "df_combined_with_last_2 = pd.concat([first_3_rows, last_2_rows])\n",
    "\n",
    "# Print the results\n",
    "print(\"DataFrame with first 3 rows appended:\")\n",
    "print(df_combined)\n",
    "\n",
    "print(\"\\nDataFrame with first 3 rows and last 2 rows appended:\")\n",
    "print(df_combined_with_last_2)"
   ]
  },
  {
   "cell_type": "code",
   "execution_count": 13,
   "id": "2c1f26da-5804-4b10-bcd8-37f56cc47519",
   "metadata": {},
   "outputs": [
    {
     "name": "stdout",
     "output_type": "stream",
     "text": [
      "   EmpNr       Dest  Amount\n",
      "0      5  The Hague    10.0\n",
      "1      9  Rotterdam     5.0\n",
      "   EmpNr       Dest  Amount\n",
      "0      5  The Hague    10.0\n",
      "1      3  Amsterdam     NaN\n",
      "2      9  Rotterdam     5.0\n"
     ]
    }
   ],
   "source": [
    "# Load Data\n",
    "dest = pd.read_csv(r\"C:\\Users\\Weekseey\\Documents\\Bellevue Work\\Data Wrangling\\dest.csv\")\n",
    "tips = pd.read_csv(r\"C:\\Users\\Weekseey\\Documents\\Bellevue Work\\Data Wrangling\\tips.csv\")\n",
    "\n",
    "# Merge on EmpNr\n",
    "merged = pd.merge(dest, tips, on='EmpNr')\n",
    "print(merged)\n",
    "\n",
    "# Join\n",
    "joined = dest.join(tips.set_index('EmpNr'), on='EmpNr')\n",
    "print(joined)"
   ]
  },
  {
   "cell_type": "code",
   "execution_count": 14,
   "id": "a1751ba4-b85f-44e9-a946-29d3e62667dc",
   "metadata": {},
   "outputs": [
    {
     "name": "stdout",
     "output_type": "stream",
     "text": [
      "       Country  Net primary school enrolment ratio male (%)\n",
      "0  Afghanistan                                          NaN\n",
      "1      Albania                                         94.0\n",
      "2      Algeria                                         96.0\n",
      "Missing values:\n",
      "    Country  Net primary school enrolment ratio male (%)\n",
      "0    False                                         True\n",
      "1    False                                        False\n",
      "2    False                                        False\n",
      "NaN count:\n",
      " Country                                        0\n",
      "Net primary school enrolment ratio male (%)    1\n",
      "dtype: int64\n",
      "Non-missing values:\n",
      "    Country  Net primary school enrolment ratio male (%)\n",
      "1  Albania                                         94.0\n",
      "2  Algeria                                         96.0\n",
      "Filled with 0:\n",
      "        Country  Net primary school enrolment ratio male (%)\n",
      "0  Afghanistan                                          0.0\n",
      "1      Albania                                         94.0\n",
      "2      Algeria                                         96.0\n"
     ]
    }
   ],
   "source": [
    "# Select specific columns\n",
    "subset = who_data[['Country', 'Net primary school enrolment ratio male (%)']].head(3)\n",
    "print(subset)\n",
    "\n",
    "# Check for missing values\n",
    "missing_values = subset.isnull()\n",
    "print(\"Missing values:\\n\", missing_values)\n",
    "\n",
    "# Count NaNs\n",
    "nan_count = subset.isna().sum()\n",
    "print(\"NaN count:\\n\", nan_count)\n",
    "\n",
    "# Print non-missing values\n",
    "non_missing = subset.dropna()\n",
    "print(\"Non-missing values:\\n\", non_missing)\n",
    "\n",
    "# Replace missing with a scalar\n",
    "filled_subset = subset.fillna(0)\n",
    "print(\"Filled with 0:\\n\", filled_subset)"
   ]
  },
  {
   "cell_type": "code",
   "execution_count": null,
   "id": "3f806bc5-78fb-4858-a80e-28946abf3a76",
   "metadata": {},
   "outputs": [],
   "source": []
  }
 ],
 "metadata": {
  "kernelspec": {
   "display_name": "Python 3 (ipykernel)",
   "language": "python",
   "name": "python3"
  },
  "language_info": {
   "codemirror_mode": {
    "name": "ipython",
    "version": 3
   },
   "file_extension": ".py",
   "mimetype": "text/x-python",
   "name": "python",
   "nbconvert_exporter": "python",
   "pygments_lexer": "ipython3",
   "version": "3.12.4"
  }
 },
 "nbformat": 4,
 "nbformat_minor": 5
}
