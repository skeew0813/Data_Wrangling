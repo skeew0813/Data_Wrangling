{
 "cells": [
  {
   "cell_type": "markdown",
   "id": "91008ab4-e897-4ff5-b39d-29b5bbeb0e48",
   "metadata": {},
   "source": [
    "**Title**: Data Wrangling 11.2 Exercises  \n",
    "**Author**: Ryan Weeks  \n",
    "**Date**: 2/22/2025  \n",
    "**Description**:  These exercises focused on using SQLAlchemy to create and manage a database for storing and querying sensor and station data. I defined tables, inserted records, and queried them using SQLAlchemy’s ORM capabilities. I also worked on creating relationships between the sensor and station tables, which helped me understand how data can be linked and queried efficiently. I used both SQL queries and pandas to analyze and retrieve data from the database. It was a great hands-on experience that gave me a deeper understanding of database management and querying while exploring the practical application of SQLAlchemy!"
   ]
  },
  {
   "cell_type": "markdown",
   "id": "475ca60a-f81f-4265-aaea-921a176ecc28",
   "metadata": {},
   "source": [
    "# Import sqlite3 and create a cursor"
   ]
  },
  {
   "cell_type": "code",
   "execution_count": 3,
   "id": "d6c65022-2186-4645-95a3-80117ef50704",
   "metadata": {},
   "outputs": [
    {
     "name": "stdout",
     "output_type": "stream",
     "text": [
      "Table: sensors\n",
      "Data in 'sensors' table: [('2016-11-05', 'Utrecht', 'Red', 42.0, 15.14)]\n",
      "# of tables after drop: 0\n"
     ]
    }
   ],
   "source": [
    "import sqlite3\n",
    "\n",
    "# Using an in-memory database\n",
    "with sqlite3.connect(\":memory:\") as con:\n",
    "    c = con.cursor()\n",
    "\n",
    "    # Create the 'sensors' table\n",
    "    c.execute('''CREATE TABLE sensors (date text, city text, code text, sensor_id real, temperature real)''')\n",
    "\n",
    "    # Confirm the table was created by querying the table names\n",
    "    for table in c.execute(\"SELECT name FROM sqlite_master WHERE type = 'table'\"):\n",
    "        print(\"Table:\", table[0])\n",
    "\n",
    "    # Insert random data into the 'sensors' table\n",
    "    c.execute(\"INSERT INTO sensors VALUES ('2016-11-05', 'Utrecht', 'Red', 42, 15.14)\")\n",
    "\n",
    "    # Select all records to see the data inserted\n",
    "    c.execute(\"SELECT * FROM sensors\")\n",
    "    print(\"Data in 'sensors' table:\", c.fetchall())\n",
    "\n",
    "    # Drop the table\n",
    "    con.execute(\"DROP TABLE sensors\")\n",
    "\n",
    "    # Confirm that the table has been dropped\n",
    "    print(\"# of tables after drop:\", c.execute(\"SELECT COUNT(*) FROM sqlite_master WHERE type = 'table'\").fetchone()[0])\n",
    "\n",
    "    # No need to explicitly call c.close() as 'with' handles it"
   ]
  },
  {
   "cell_type": "markdown",
   "id": "0b9697d3-9b8b-4a80-915a-03a7f624a6c5",
   "metadata": {},
   "source": [
    "# Create a list of tuples to form the pandas DataFrame"
   ]
  },
  {
   "cell_type": "code",
   "execution_count": 5,
   "id": "0f807033-84d2-41b0-9084-a2838e79045f",
   "metadata": {},
   "outputs": [
    {
     "name": "stdout",
     "output_type": "stream",
     "text": [
      "Total rows in the table: 309\n",
      "Deleted 217 rows where sunactivity > 20\n",
      "Data with year < 1732:\n",
      "      year  sunactivity\n",
      "0   1700.0          5.0\n",
      "1   1701.0         11.0\n",
      "2   1702.0         16.0\n",
      "3   1707.0         20.0\n",
      "4   1708.0         10.0\n",
      "5   1709.0          8.0\n",
      "6   1710.0          3.0\n",
      "7   1711.0          0.0\n",
      "8   1712.0          0.0\n",
      "9   1713.0          2.0\n",
      "10  1714.0         11.0\n",
      "11  1723.0         11.0\n"
     ]
    }
   ],
   "source": [
    "import statsmodels.api as sm\n",
    "from pandas.io.sql import read_sql\n",
    "import sqlite3\n",
    "\n",
    "# Using an in-memory SQLite database\n",
    "with sqlite3.connect(\":memory:\") as con:\n",
    "    c = con.cursor()\n",
    "\n",
    "    # Load the sunspots dataset from statsmodels\n",
    "    data_loader = sm.datasets.sunspots.load_pandas()\n",
    "    df = data_loader.data\n",
    "\n",
    "    # Convert the dataframe to a list of tuples for insertion\n",
    "    rows = [tuple(x) for x in df.values]\n",
    "\n",
    "    # Create the sunspots table without specifying data types (it's fine for this example)\n",
    "    con.execute(\"CREATE TABLE sunspots(year, sunactivity)\")\n",
    "\n",
    "    # Insert all rows into the table\n",
    "    con.executemany(\"INSERT INTO sunspots(year, sunactivity) VALUES (?, ?)\", rows)\n",
    "\n",
    "    # Show the row count after inserting\n",
    "    c.execute(\"SELECT COUNT(*) FROM sunspots\")\n",
    "    print(\"Total rows in the table:\", c.fetchone()[0])\n",
    "\n",
    "    # Delete records where sunactivity is greater than 20 and show how many were deleted\n",
    "    deleted_rows = con.execute(\"DELETE FROM sunspots WHERE sunactivity > 20\").rowcount\n",
    "    print(f\"Deleted {deleted_rows} rows where sunactivity > 20\")\n",
    "\n",
    "    # Select and show all data where year is less than 1732\n",
    "    print(\"Data with year < 1732:\")\n",
    "    print(read_sql(\"SELECT * FROM sunspots WHERE year < 1732\", con))\n",
    "\n",
    "    # Drop the table after use\n",
    "    con.execute(\"DROP TABLE sunspots\")\n",
    "\n",
    "    # No need to manually close the cursor since 'with' handles it"
   ]
  },
  {
   "cell_type": "markdown",
   "id": "bd45141d-63a2-46e3-a71d-59af785c917c",
   "metadata": {},
   "source": [
    "# Install sqlalchemy and Create an engine from a URI"
   ]
  },
  {
   "cell_type": "code",
   "execution_count": 7,
   "id": "61dd8cf8-1539-4ba9-bdf7-a93a46486353",
   "metadata": {},
   "outputs": [
    {
     "name": "stdout",
     "output_type": "stream",
     "text": [
      "First Station: Station A\n",
      "All Stations:\n",
      "Station A\n",
      "Station B\n",
      "Station A\n",
      "Station B\n",
      "Station A\n",
      "Station B\n",
      "All Sensors:\n",
      "Sensor 1: Temperature, Station Station A\n",
      "Sensor 2: Temperature, Station Station A\n",
      "Sensor 3: Temperature, Station Station A\n",
      "First Sensor for Station Station A: Temperature\n",
      "Stations DataFrame:\n",
      "   id       name\n",
      "0   1  Station A\n",
      "1   2  Station B\n",
      "2   3  Station A\n",
      "3   4  Station B\n",
      "4   5  Station A\n",
      "5   6  Station B\n"
     ]
    }
   ],
   "source": [
    "from sqlalchemy import create_engine, Column, Integer, String, ForeignKey\n",
    "from sqlalchemy.orm import relationship, sessionmaker, declarative_base\n",
    "import pandas as pd\n",
    "\n",
    "# Define the base class for our models\n",
    "Base = declarative_base()\n",
    "\n",
    "# Define the Station class (superclass)\n",
    "class Station(Base):\n",
    "    __tablename__ = 'stations'\n",
    "    id = Column(Integer, primary_key=True)\n",
    "    name = Column(String, nullable=False)\n",
    "\n",
    "    # Define a relationship between Station and Sensor (One-to-Many)\n",
    "    sensors = relationship(\"Sensor\", back_populates=\"station\")\n",
    "\n",
    "# Define the Sensor class\n",
    "class Sensor(Base):\n",
    "    __tablename__ = 'sensors'\n",
    "    id = Column(Integer, primary_key=True)\n",
    "    type = Column(String, nullable=False)\n",
    "    station_id = Column(Integer, ForeignKey('stations.id'))\n",
    "\n",
    "    # Define a relationship to back-reference to Station\n",
    "    station = relationship(\"Station\", back_populates=\"sensors\")\n",
    "\n",
    "# Create the engine (using SQLite in this example)\n",
    "engine = create_engine('sqlite:///stations.db')\n",
    "\n",
    "# Create the tables in the database\n",
    "Base.metadata.create_all(engine)\n",
    "\n",
    "# Create a session maker bound to the engine\n",
    "Session = sessionmaker(bind=engine)\n",
    "session = Session()\n",
    "\n",
    "# Create two station records\n",
    "station1 = Station(name=\"Station A\")\n",
    "station2 = Station(name=\"Station B\")\n",
    "\n",
    "# Add and commit stations to the session\n",
    "session.add(station1)\n",
    "session.add(station2)\n",
    "session.commit()\n",
    "\n",
    "# Insert a sensor record related to station1\n",
    "sensor1 = Sensor(type=\"Temperature\", station_id=station1.id)\n",
    "session.add(sensor1)\n",
    "session.commit()\n",
    "\n",
    "# Query: Select the first row in the station table\n",
    "first_station = session.query(Station).first()\n",
    "print(\"First Station:\", first_station.name)\n",
    "\n",
    "# Query: Select all stations\n",
    "all_stations = session.query(Station).all()\n",
    "print(\"All Stations:\")\n",
    "for station in all_stations:\n",
    "    print(station.name)\n",
    "\n",
    "# Query: Select all sensors\n",
    "all_sensors = session.query(Sensor).all()\n",
    "print(\"All Sensors:\")\n",
    "for sensor in all_sensors:\n",
    "    print(f\"Sensor {sensor.id}: {sensor.type}, Station {sensor.station.name}\")\n",
    "\n",
    "# Query: Select the first sensor that belongs to the first station\n",
    "first_sensor = session.query(Sensor).filter(Sensor.station_id == first_station.id).first()\n",
    "print(f\"First Sensor for Station {first_station.name}: {first_sensor.type}\")\n",
    "\n",
    "# Query: Select all stations using pandas read_sql()\n",
    "stations_df = pd.read_sql(\"SELECT * FROM stations\", con=engine.connect())\n",
    "print(\"Stations DataFrame:\")\n",
    "print(stations_df)\n",
    "\n",
    "# Close the session\n",
    "session.close()"
   ]
  }
 ],
 "metadata": {
  "kernelspec": {
   "display_name": "Python 3 (ipykernel)",
   "language": "python",
   "name": "python3"
  },
  "language_info": {
   "codemirror_mode": {
    "name": "ipython",
    "version": 3
   },
   "file_extension": ".py",
   "mimetype": "text/x-python",
   "name": "python",
   "nbconvert_exporter": "python",
   "pygments_lexer": "ipython3",
   "version": "3.12.4"
  }
 },
 "nbformat": 4,
 "nbformat_minor": 5
}
